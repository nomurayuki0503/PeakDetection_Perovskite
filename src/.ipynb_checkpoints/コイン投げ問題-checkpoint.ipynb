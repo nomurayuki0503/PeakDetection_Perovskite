{
 "cells": [
  {
   "cell_type": "code",
   "execution_count": 2,
   "id": "25246280",
   "metadata": {},
   "outputs": [
    {
     "name": "stderr",
     "output_type": "stream",
     "text": [
      "WARNING (theano.tensor.blas): Using NumPy C-API based implementation for BLAS functions.\n"
     ]
    }
   ],
   "source": [
    "import numpy as np\n",
    "from matplotlib import pyplot as plt\n",
    "import scipy.stats as st\n",
    "import pymc3 as pm\n",
    "import arviz as az\n",
    "import hyperspy.api as hs\n",
    "import os"
   ]
  },
  {
   "cell_type": "code",
   "execution_count": 6,
   "id": "99aeb8c8",
   "metadata": {},
   "outputs": [
    {
     "data": {
      "text/plain": [
       "[<matplotlib.lines.Line2D at 0x18040bc08b0>]"
      ]
     },
     "execution_count": 6,
     "metadata": {},
     "output_type": "execute_result"
    },
    {
     "data": {
      "image/png": "[encoded data removed]",
      "text/plain": [
       "<Figure size 432x288 with 1 Axes>"
      ]
     },
     "metadata": {
      "needs_background": "light"
     },
     "output_type": "display_data"
    }
   ],
   "source": [
    "x = np.linspace(0,1,1000)\n",
    "\n",
    "y_obs_10 = [1,0,0,1,1,1,0,1,1,0]\n",
    "N_10, n_10 = len(y_obs_10), np.sum(y_obs_10)\n",
    "beta_dist1 = st.beta(1+n_10, 1+N_10-n_10)\n",
    "\n",
    "d = st.bernoulli(0.6)\n",
    "y_obs_1000 = d.rvs(1000)\n",
    "N_1000, n_1000 = len(y_obs_1000), np.sum(y_obs_1000)\n",
    "beta_dist2 = st.beta(1+n_1000, 1+N_1000-n_1000)\n",
    "\n",
    "plt.plot(beta_dist1.pdf(x))\n",
    "plt.plot(beta_dist2.pdf(x))"
   ]
  },
  {
   "cell_type": "code",
   "execution_count": null,
   "id": "a194daa9",
   "metadata": {},
   "outputs": [],
   "source": []
  }
 ],
 "metadata": {
  "kernelspec": {
   "display_name": "Python 3 (ipykernel)",
   "language": "python",
   "name": "python3"
  },
  "language_info": {
   "codemirror_mode": {
    "name": "ipython",
    "version": 3
   },
   "file_extension": ".py",
   "mimetype": "text/x-python",
   "name": "python",
   "nbconvert_exporter": "python",
   "pygments_lexer": "ipython3",
   "version": "3.8.13"
  }
 },
 "nbformat": 4,
 "nbformat_minor": 5
}
