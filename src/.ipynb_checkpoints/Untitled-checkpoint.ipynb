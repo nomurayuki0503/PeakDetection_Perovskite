{
 "cells": [
  {
   "cell_type": "code",
   "execution_count": 8,
   "id": "25246280",
   "metadata": {},
   "outputs": [],
   "source": [
    "import numpy as np\n",
    "from matplotlib import pyplot as plt\n",
    "import scipy.stats as st\n",
    "import pymc3 as pm\n",
    "import arviz as az\n",
    "import hyperspy.api as hs\n",
    "import os"
   ]
  },
  {
   "cell_type": "code",
   "execution_count": 4,
   "id": "b06e4d34",
   "metadata": {},
   "outputs": [],
   "source": [
    "dim = 2\n",
    "N = 4\n",
    "\n",
    "true_w = np.array([-1.5, 0.8, 1.2]).reshape([3,1])\n",
    "\n",
    "x_data = np.random.uniform(-5, 5, [N, dim])\n",
    "bias = np.ones(N).reshape([N,1])\n",
    "\n",
    "x_data_add_bias = np.concatenate([x_data,bias], axis=1)\n",
    "y_data = np.dot(x_data_add_bias, true_w) + np.random.normal(0, 1, size=[N,1])"
   ]
  },
  {
   "cell_type": "code",
   "execution_count": 5,
   "id": "494209db",
   "metadata": {},
   "outputs": [
    {
     "data": {
      "text/plain": [
       "array([[ 6.21823032],\n",
       "       [-1.60964656],\n",
       "       [ 6.50820233],\n",
       "       [ 4.447333  ]])"
      ]
     },
     "execution_count": 5,
     "metadata": {},
     "output_type": "execute_result"
    }
   ],
   "source": [
    "y_data"
   ]
  },
  {
   "cell_type": "code",
   "execution_count": 6,
   "id": "6c688554",
   "metadata": {},
   "outputs": [
    {
     "data": {
      "text/plain": [
       "array([[-2.4422859 , -0.06182164,  1.        ],\n",
       "       [ 3.99749661,  2.32131391,  1.        ],\n",
       "       [-1.17491455,  2.8073953 ,  1.        ],\n",
       "       [-0.72992474,  4.40373385,  1.        ]])"
      ]
     },
     "execution_count": 6,
     "metadata": {},
     "output_type": "execute_result"
    }
   ],
   "source": [
    "x_data_add_bias"
   ]
  },
  {
   "cell_type": "code",
   "execution_count": null,
   "id": "99aeb8c8",
   "metadata": {},
   "outputs": [],
   "source": []
  }
 ],
 "metadata": {
  "kernelspec": {
   "display_name": "Python 3 (ipykernel)",
   "language": "python",
   "name": "python3"
  },
  "language_info": {
   "codemirror_mode": {
    "name": "ipython",
    "version": 3
   },
   "file_extension": ".py",
   "mimetype": "text/x-python",
   "name": "python",
   "nbconvert_exporter": "python",
   "pygments_lexer": "ipython3",
   "version": "3.8.13"
  }
 },
 "nbformat": 4,
 "nbformat_minor": 5
}
