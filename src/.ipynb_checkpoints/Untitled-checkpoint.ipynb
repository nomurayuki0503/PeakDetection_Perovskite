{
 "cells": [
  {
   "cell_type": "code",
   "execution_count": 1,
   "id": "c8f7d2bb",
   "metadata": {},
   "outputs": [],
   "source": [
    "import multiprocessing\n",
    "import time\n",
    "import os"
   ]
  },
  {
   "cell_type": "code",
   "execution_count": null,
   "id": "15da279d",
   "metadata": {},
   "outputs": [],
   "source": [
    "def run(i):\n",
    "    print(f\"start worker={i} pid={os.getpid()}\")\n",
    "    time.sleep(1)\n",
    "    print(f\"stop worker={i}\")\n",
    "    return i*2\n",
    "\n",
    "def main():\n",
    "    with multiprocessing.Pool(processes=2) as pool:\n",
    "        r = pool.map(run, range(2))\n",
    "        print(r)\n",
    "\n",
    "if __name__ == \"__main__\":\n",
    "    main()"
   ]
  },
  {
   "cell_type": "code",
   "execution_count": null,
   "id": "c7b35636",
   "metadata": {},
   "outputs": [],
   "source": []
  }
 ],
 "metadata": {
  "kernelspec": {
   "display_name": "Python 3 (ipykernel)",
   "language": "python",
   "name": "python3"
  },
  "language_info": {
   "codemirror_mode": {
    "name": "ipython",
    "version": 3
   },
   "file_extension": ".py",
   "mimetype": "text/x-python",
   "name": "python",
   "nbconvert_exporter": "python",
   "pygments_lexer": "ipython3",
   "version": "3.8.13"
  }
 },
 "nbformat": 4,
 "nbformat_minor": 5
}
